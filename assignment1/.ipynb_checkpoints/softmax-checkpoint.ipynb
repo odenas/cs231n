{
 "cells": [
  {
   "cell_type": "markdown",
   "metadata": {},
   "source": [
    "# Softmax exercise\n",
    "\n",
    "*Complete and hand in this completed worksheet (including its outputs and any supporting code outside of the worksheet) with your assignment submission. For more details see the [assignments page](http://vision.stanford.edu/teaching/cs231n/assignments.html) on the course website.*\n",
    "\n",
    "This exercise is analogous to the SVM exercise. You will:\n",
    "\n",
    "- implement a fully-vectorized **loss function** for the Softmax classifier\n",
    "- implement the fully-vectorized expression for its **analytic gradient**\n",
    "- **check your implementation** with numerical gradient\n",
    "- use a validation set to **tune the learning rate and regularization** strength\n",
    "- **optimize** the loss function with **SGD**\n",
    "- **visualize** the final learned weights\n"
   ]
  },
  {
   "cell_type": "code",
   "execution_count": 1,
   "metadata": {
    "collapsed": true
   },
   "outputs": [],
   "source": [
    "import random\n",
    "import numpy as np\n",
    "from cs231n.data_utils import load_CIFAR10\n",
    "import matplotlib.pyplot as plt\n",
    "\n",
    "from __future__ import print_function\n",
    "\n",
    "%matplotlib inline\n",
    "plt.rcParams['figure.figsize'] = (10.0, 8.0) # set default size of plots\n",
    "plt.rcParams['image.interpolation'] = 'nearest'\n",
    "plt.rcParams['image.cmap'] = 'gray'\n",
    "\n",
    "# for auto-reloading extenrnal modules\n",
    "# see http://stackoverflow.com/questions/1907993/autoreload-of-modules-in-ipython\n",
    "%load_ext autoreload\n",
    "%autoreload 2"
   ]
  },
  {
   "cell_type": "code",
   "execution_count": 2,
   "metadata": {},
   "outputs": [
    {
     "name": "stdout",
     "output_type": "stream",
     "text": [
      "Train data shape:  (49000, 3073)\n",
      "Train labels shape:  (49000,)\n",
      "Validation data shape:  (1000, 3073)\n",
      "Validation labels shape:  (1000,)\n",
      "Test data shape:  (1000, 3073)\n",
      "Test labels shape:  (1000,)\n",
      "dev data shape:  (500, 3073)\n",
      "dev labels shape:  (500,)\n"
     ]
    }
   ],
   "source": [
    "def get_CIFAR10_data(num_training=49000, num_validation=1000, num_test=1000, num_dev=500):\n",
    "    \"\"\"\n",
    "    Load the CIFAR-10 dataset from disk and perform preprocessing to prepare\n",
    "    it for the linear classifier. These are the same steps as we used for the\n",
    "    SVM, but condensed to a single function.  \n",
    "    \"\"\"\n",
    "    # Load the raw CIFAR-10 data\n",
    "    cifar10_dir = 'cs231n/datasets/cifar-10-batches-py'\n",
    "    X_train, y_train, X_test, y_test = load_CIFAR10(cifar10_dir)\n",
    "    \n",
    "    # subsample the data\n",
    "    mask = list(range(num_training, num_training + num_validation))\n",
    "    X_val = X_train[mask]\n",
    "    y_val = y_train[mask]\n",
    "    mask = list(range(num_training))\n",
    "    X_train = X_train[mask]\n",
    "    y_train = y_train[mask]\n",
    "    mask = list(range(num_test))\n",
    "    X_test = X_test[mask]\n",
    "    y_test = y_test[mask]\n",
    "    mask = np.random.choice(num_training, num_dev, replace=False)\n",
    "    X_dev = X_train[mask]\n",
    "    y_dev = y_train[mask]\n",
    "    \n",
    "    # Preprocessing: reshape the image data into rows\n",
    "    X_train = np.reshape(X_train, (X_train.shape[0], -1))\n",
    "    X_val = np.reshape(X_val, (X_val.shape[0], -1))\n",
    "    X_test = np.reshape(X_test, (X_test.shape[0], -1))\n",
    "    X_dev = np.reshape(X_dev, (X_dev.shape[0], -1))\n",
    "    \n",
    "    # Normalize the data: subtract the mean image\n",
    "    mean_image = np.mean(X_train, axis = 0)\n",
    "    X_train -= mean_image\n",
    "    X_val -= mean_image\n",
    "    X_test -= mean_image\n",
    "    X_dev -= mean_image\n",
    "    \n",
    "    # add bias dimension and transform into columns\n",
    "    X_train = np.hstack([X_train, np.ones((X_train.shape[0], 1))])\n",
    "    X_val = np.hstack([X_val, np.ones((X_val.shape[0], 1))])\n",
    "    X_test = np.hstack([X_test, np.ones((X_test.shape[0], 1))])\n",
    "    X_dev = np.hstack([X_dev, np.ones((X_dev.shape[0], 1))])\n",
    "    \n",
    "    return X_train, y_train, X_val, y_val, X_test, y_test, X_dev, y_dev\n",
    "\n",
    "\n",
    "# Invoke the above function to get our data.\n",
    "X_train, y_train, X_val, y_val, X_test, y_test, X_dev, y_dev = get_CIFAR10_data()\n",
    "print('Train data shape: ', X_train.shape)\n",
    "print('Train labels shape: ', y_train.shape)\n",
    "print('Validation data shape: ', X_val.shape)\n",
    "print('Validation labels shape: ', y_val.shape)\n",
    "print('Test data shape: ', X_test.shape)\n",
    "print('Test labels shape: ', y_test.shape)\n",
    "print('dev data shape: ', X_dev.shape)\n",
    "print('dev labels shape: ', y_dev.shape)"
   ]
  },
  {
   "cell_type": "markdown",
   "metadata": {},
   "source": [
    "## Softmax Classifier\n",
    "\n",
    "Your code for this section will all be written inside **cs231n/classifiers/softmax.py**. \n"
   ]
  },
  {
   "cell_type": "code",
   "execution_count": 3,
   "metadata": {},
   "outputs": [
    {
     "name": "stdout",
     "output_type": "stream",
     "text": [
      "loss: 2.297741\n",
      "sanity check: 2.302585\n"
     ]
    }
   ],
   "source": [
    "# First implement the naive softmax loss function with nested loops.\n",
    "# Open the file cs231n/classifiers/softmax.py and implement the\n",
    "# softmax_loss_naive function.\n",
    "\n",
    "from cs231n.classifiers.softmax import softmax_loss_naive\n",
    "import time\n",
    "\n",
    "# Generate a random softmax weight matrix and use it to compute the loss.\n",
    "W = np.random.randn(3073, 10) * 0.0001\n",
    "loss, grad = softmax_loss_naive(W, X_dev, y_dev, 0.0)\n",
    "\n",
    "# As a rough sanity check, our loss should be something close to -log(0.1).\n",
    "print('loss: %f' % loss)\n",
    "print('sanity check: %f' % (-np.log(0.1)))"
   ]
  },
  {
   "cell_type": "markdown",
   "metadata": {},
   "source": [
    "## Inline Question 1:\n",
    "**Why do we expect our loss to be close to -log(0.1)? Explain briefly.**\n",
    "\n",
    "**Your answer:** On an untrained model the loss is almost -log(probability of random correct guess), which on 10 classes is -log(1/10)\n"
   ]
  },
  {
   "cell_type": "code",
   "execution_count": 4,
   "metadata": {},
   "outputs": [
    {
     "name": "stdout",
     "output_type": "stream",
     "text": [
      "numerical: 3.425289 analytic: 3.425289, relative error: 1.735109e-08\n",
      "numerical: 2.128264 analytic: 2.128264, relative error: 2.279514e-08\n",
      "numerical: -0.934615 analytic: -0.934615, relative error: 5.631017e-08\n",
      "numerical: 1.828794 analytic: 1.828793, relative error: 1.594723e-08\n",
      "numerical: -1.430644 analytic: -1.430644, relative error: 2.835340e-08\n",
      "numerical: 1.168745 analytic: 1.168745, relative error: 3.181102e-08\n",
      "numerical: 2.071416 analytic: 2.071416, relative error: 1.245591e-08\n",
      "numerical: -0.857453 analytic: -0.857453, relative error: 1.611972e-08\n",
      "numerical: -1.974739 analytic: -1.974739, relative error: 3.234882e-08\n",
      "numerical: -1.289785 analytic: -1.289785, relative error: 4.356278e-08\n",
      "numerical: 0.241107 analytic: 0.241107, relative error: 6.343138e-08\n",
      "numerical: -0.670107 analytic: -0.670107, relative error: 1.431448e-07\n",
      "numerical: -2.437287 analytic: -2.437287, relative error: 1.012891e-08\n",
      "numerical: -1.320409 analytic: -1.320409, relative error: 1.766432e-08\n",
      "numerical: -1.624282 analytic: -1.624282, relative error: 2.956823e-08\n",
      "numerical: -2.988358 analytic: -2.988359, relative error: 1.680778e-08\n",
      "numerical: -0.436583 analytic: -0.436583, relative error: 9.118417e-08\n",
      "numerical: 0.851252 analytic: 0.851252, relative error: 9.014209e-08\n",
      "numerical: -0.039466 analytic: -0.039466, relative error: 2.337329e-06\n",
      "numerical: 1.386619 analytic: 1.386619, relative error: 3.520214e-08\n"
     ]
    }
   ],
   "source": [
    "# Complete the implementation of softmax_loss_naive and implement a (naive)\n",
    "# version of the gradient that uses nested loops.\n",
    "loss, grad = softmax_loss_naive(W, X_dev, y_dev, 0.0)\n",
    "\n",
    "# As we did for the SVM, use numeric gradient checking as a debugging tool.\n",
    "# The numeric gradient should be close to the analytic gradient.\n",
    "from cs231n.gradient_check import grad_check_sparse\n",
    "f = lambda w: softmax_loss_naive(w, X_dev, y_dev, 0.0)[0]\n",
    "grad_numerical = grad_check_sparse(f, W, grad, 10)\n",
    "\n",
    "# similar to SVM case, do another gradient check with regularization\n",
    "loss, grad = softmax_loss_naive(W, X_dev, y_dev, 5e1)\n",
    "f = lambda w: softmax_loss_naive(w, X_dev, y_dev, 5e1)[0]\n",
    "grad_numerical = grad_check_sparse(f, W, grad, 10)"
   ]
  },
  {
   "cell_type": "code",
   "execution_count": 46,
   "metadata": {},
   "outputs": [
    {
     "name": "stdout",
     "output_type": "stream",
     "text": [
      "naive loss: 2.297741e+00 computed in 0.152174s\n",
      "vectorized loss: 2.297741e+00 computed in 0.008786s\n",
      "Loss difference: 0.000000\n",
      "Gradient difference: 0.000000\n"
     ]
    }
   ],
   "source": [
    "# Now that we have a naive implementation of the softmax loss function and its gradient,\n",
    "# implement a vectorized version in softmax_loss_vectorized.\n",
    "# The two versions should compute the same results, but the vectorized version should be\n",
    "# much faster.\n",
    "tic = time.time()\n",
    "loss_naive, grad_naive = softmax_loss_naive(W, X_dev, y_dev, 0.000005)\n",
    "toc = time.time()\n",
    "print('naive loss: %e computed in %fs' % (loss_naive, toc - tic))\n",
    "\n",
    "from cs231n.classifiers.softmax import softmax_loss_vectorized\n",
    "tic = time.time()\n",
    "loss_vectorized, grad_vectorized = softmax_loss_vectorized(W, X_dev, y_dev, 0.000005)\n",
    "toc = time.time()\n",
    "print('vectorized loss: %e computed in %fs' % (loss_vectorized, toc - tic))\n",
    "\n",
    "# As we did for the SVM, we use the Frobenius norm to compare the two versions\n",
    "# of the gradient.\n",
    "grad_difference = np.linalg.norm(grad_naive - grad_vectorized, ord='fro')\n",
    "print('Loss difference: %f' % np.abs(loss_naive - loss_vectorized))\n",
    "print('Gradient difference: %f' % grad_difference)"
   ]
  },
  {
   "cell_type": "code",
   "execution_count": 64,
   "metadata": {},
   "outputs": [
    {
     "name": "stdout",
     "output_type": "stream",
     "text": [
      " *** (5.000000e-07, 1000.00) *** \n",
      "iteration 0 / 1000: loss 36.894194\n",
      "iteration 100 / 1000: loss 27.393094\n",
      "iteration 200 / 1000: loss 22.579521\n",
      "iteration 300 / 1000: loss 18.886209\n",
      "iteration 400 / 1000: loss 15.346956\n",
      "iteration 500 / 1000: loss 12.963146\n",
      "iteration 600 / 1000: loss 11.005513\n",
      "iteration 700 / 1000: loss 9.250552\n",
      "iteration 800 / 1000: loss 7.832374\n",
      "iteration 900 / 1000: loss 6.674873\n",
      " *** (5.000000e-07, 5000.00) *** \n",
      "iteration 0 / 1000: loss 159.729017\n",
      "iteration 100 / 1000: loss 58.285477\n",
      "iteration 200 / 1000: loss 22.442681\n",
      "iteration 300 / 1000: loss 9.340550\n",
      "iteration 400 / 1000: loss 4.609117\n",
      "iteration 500 / 1000: loss 2.992024\n",
      "iteration 600 / 1000: loss 2.328858\n",
      "iteration 700 / 1000: loss 2.159677\n",
      "iteration 800 / 1000: loss 2.007641\n",
      "iteration 900 / 1000: loss 1.970753\n",
      " *** (5.000000e-07, 8000.00) *** \n",
      "iteration 0 / 1000: loss 254.233560\n",
      "iteration 100 / 1000: loss 51.556087\n",
      "iteration 200 / 1000: loss 11.968733\n",
      "iteration 300 / 1000: loss 3.978849\n",
      "iteration 400 / 1000: loss 2.413598\n",
      "iteration 500 / 1000: loss 2.096226\n",
      "iteration 600 / 1000: loss 1.987614\n",
      "iteration 700 / 1000: loss 2.036040\n",
      "iteration 800 / 1000: loss 1.935169\n",
      "iteration 900 / 1000: loss 1.951787\n",
      " *** (1.000000e-06, 1000.00) *** \n",
      "iteration 0 / 1000: loss 35.445271\n",
      "iteration 100 / 1000: loss 22.755182\n",
      "iteration 200 / 1000: loss 15.627820\n",
      "iteration 300 / 1000: loss 11.037570\n",
      "iteration 400 / 1000: loss 7.842407\n",
      "iteration 500 / 1000: loss 5.829127\n",
      "iteration 600 / 1000: loss 4.500128\n",
      "iteration 700 / 1000: loss 3.554918\n",
      "iteration 800 / 1000: loss 3.030876\n",
      "iteration 900 / 1000: loss 2.637492\n",
      " *** (1.000000e-06, 5000.00) *** \n",
      "iteration 0 / 1000: loss 158.891023\n",
      "iteration 100 / 1000: loss 22.269966\n",
      "iteration 200 / 1000: loss 4.597479\n",
      "iteration 300 / 1000: loss 2.202079\n",
      "iteration 400 / 1000: loss 1.991666\n",
      "iteration 500 / 1000: loss 1.869251\n",
      "iteration 600 / 1000: loss 1.921841\n",
      "iteration 700 / 1000: loss 1.968951\n",
      "iteration 800 / 1000: loss 2.030505\n",
      "iteration 900 / 1000: loss 1.866641\n",
      " *** (1.000000e-06, 8000.00) *** \n",
      "iteration 0 / 1000: loss 251.383179\n",
      "iteration 100 / 1000: loss 11.639893\n",
      "iteration 200 / 1000: loss 2.353713\n",
      "iteration 300 / 1000: loss 2.083259\n",
      "iteration 400 / 1000: loss 1.930181\n",
      "iteration 500 / 1000: loss 2.005081\n",
      "iteration 600 / 1000: loss 1.929869\n",
      "iteration 700 / 1000: loss 1.968286\n",
      "iteration 800 / 1000: loss 1.957879\n",
      "iteration 900 / 1000: loss 1.896758\n",
      "lr 5.000000e-07 reg 1.000000e+03 train accuracy: 0.362265 val accuracy: 0.354000\n",
      "lr 5.000000e-07 reg 5.000000e+03 train accuracy: 0.371510 val accuracy: 0.378000\n",
      "lr 5.000000e-07 reg 8.000000e+03 train accuracy: 0.360122 val accuracy: 0.376000\n",
      "lr 1.000000e-06 reg 1.000000e+03 train accuracy: 0.386612 val accuracy: 0.385000\n",
      "lr 1.000000e-06 reg 5.000000e+03 train accuracy: 0.368204 val accuracy: 0.375000\n",
      "lr 1.000000e-06 reg 8.000000e+03 train accuracy: 0.353571 val accuracy: 0.366000\n",
      "best validation accuracy achieved during cross-validation: 0.385000\n"
     ]
    }
   ],
   "source": [
    "# Use the validation set to tune hyperparameters (regularization strength and\n",
    "# learning rate). You should experiment with different ranges for the learning\n",
    "# rates and regularization strengths; if you are careful you should be able to\n",
    "# get a classification accuracy of over 0.35 on the validation set.\n",
    "from cs231n.classifiers import Softmax\n",
    "results = {}\n",
    "best_val = -1\n",
    "best_softmax = None\n",
    "learning_rates = [5e-7, 1e-6]\n",
    "regularization_strengths = [1e3, 5e3, 8e3]\n",
    "\n",
    "################################################################################\n",
    "# TODO:                                                                        #\n",
    "# Use the validation set to set the learning rate and regularization strength. #\n",
    "# This should be identical to the validation that you did for the SVM; save    #\n",
    "# the best trained softmax classifer in best_softmax.                          #\n",
    "################################################################################\n",
    "import itertools\n",
    "for lrate, reg_weight in itertools.product(learning_rates, regularization_strengths):\n",
    "    print(\" *** (%e, %.2f) *** \" % (lrate, reg_weight))\n",
    "    smax = Softmax()\n",
    "    loss_hist = smax.train(X_train, y_train, learning_rate=lrate, reg=reg_weight,\n",
    "                           num_iters=1000, verbose=True)\n",
    "    y_train_pred = smax.predict(X_train)\n",
    "    y_val_pred = smax.predict(X_val)\n",
    "    if np.mean(y_val == y_val_pred) > best_val:\n",
    "        best_val = np.mean(y_val == y_val_pred)\n",
    "        best_softmax = smax\n",
    "\n",
    "    results[(lrate, reg_weight)] = (np.mean(y_train == y_train_pred),\n",
    "                                    np.mean(y_val == y_val_pred))\n",
    "\n",
    "################################################################################\n",
    "#                              END OF YOUR CODE                                #\n",
    "################################################################################\n",
    "    \n",
    "# Print out results.\n",
    "for lr, reg in sorted(results):\n",
    "    train_accuracy, val_accuracy = results[(lr, reg)]\n",
    "    print('lr %e reg %e train accuracy: %f val accuracy: %f' % (\n",
    "                lr, reg, train_accuracy, val_accuracy))\n",
    "    \n",
    "print('best validation accuracy achieved during cross-validation: %f' % best_val)"
   ]
  },
  {
   "cell_type": "code",
   "execution_count": 67,
   "metadata": {},
   "outputs": [
    {
     "name": "stdout",
     "output_type": "stream",
     "text": [
      "iteration 0 / 1800: loss 36.173312\n",
      "iteration 100 / 1800: loss 22.655802\n",
      "iteration 200 / 1800: loss 15.651243\n",
      "iteration 300 / 1800: loss 10.967140\n",
      "iteration 400 / 1800: loss 7.848996\n",
      "iteration 500 / 1800: loss 5.867511\n",
      "iteration 600 / 1800: loss 4.467507\n",
      "iteration 700 / 1800: loss 3.545787\n",
      "iteration 800 / 1800: loss 3.080813\n",
      "iteration 900 / 1800: loss 2.624801\n",
      "iteration 1000 / 1800: loss 2.286596\n",
      "iteration 1100 / 1800: loss 2.125178\n",
      "iteration 1200 / 1800: loss 2.128434\n",
      "iteration 1300 / 1800: loss 1.952971\n",
      "iteration 1400 / 1800: loss 1.843064\n",
      "iteration 1500 / 1800: loss 1.857709\n",
      "iteration 1600 / 1800: loss 1.930417\n",
      "iteration 1700 / 1800: loss 1.861687\n",
      "softmax on raw pixels final test set accuracy: 0.386000\n"
     ]
    }
   ],
   "source": [
    "# evaluate on test set\n",
    "# Evaluate the best softmax on test set\n",
    "best_softmax = Softmax()\n",
    "best_softmax.train(X_train, y_train, learning_rate=1e-6, reg=1e3,\n",
    "                           num_iters=1800, verbose=True)\n",
    "y_test_pred = best_softmax.predict(X_test)\n",
    "test_accuracy = np.mean(y_test == y_test_pred)\n",
    "print('softmax on raw pixels final test set accuracy: %f' % (test_accuracy, ))"
   ]
  },
  {
   "cell_type": "code",
   "execution_count": 68,
   "metadata": {},
   "outputs": [
    {
     "data": {
      "image/png": "[encoded data removed]",
      "text/plain": [
       "<matplotlib.figure.Figure at 0x1806898950>"
      ]
     },
     "metadata": {},
     "output_type": "display_data"
    }
   ],
   "source": [
    "# Visualize the learned weights for each class\n",
    "w = best_softmax.W[:-1,:] # strip out the bias\n",
    "w = w.reshape(32, 32, 3, 10)\n",
    "\n",
    "w_min, w_max = np.min(w), np.max(w)\n",
    "\n",
    "classes = ['plane', 'car', 'bird', 'cat', 'deer', 'dog', 'frog', 'horse', 'ship', 'truck']\n",
    "for i in range(10):\n",
    "    plt.subplot(2, 5, i + 1)\n",
    "    \n",
    "    # Rescale the weights to be between 0 and 255\n",
    "    wimg = 255.0 * (w[:, :, :, i].squeeze() - w_min) / (w_max - w_min)\n",
    "    plt.imshow(wimg.astype('uint8'))\n",
    "    plt.axis('off')\n",
    "    plt.title(classes[i])"
   ]
  },
  {
   "cell_type": "code",
   "execution_count": null,
   "metadata": {
    "collapsed": true
   },
   "outputs": [],
   "source": []
  }
 ],
 "metadata": {
  "kernelspec": {
   "display_name": "Python 2",
   "language": "python",
   "name": "python2"
  },
  "language_info": {
   "codemirror_mode": {
    "name": "ipython",
    "version": 2
   },
   "file_extension": ".py",
   "mimetype": "text/x-python",
   "name": "python",
   "nbconvert_exporter": "python",
   "pygments_lexer": "ipython2",
   "version": "2.7.13"
  }
 },
 "nbformat": 4,
 "nbformat_minor": 1
}
